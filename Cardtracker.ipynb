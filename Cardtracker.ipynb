{
 "cells": [
  {
   "cell_type": "code",
   "execution_count": null,
   "id": "bf610419",
   "metadata": {},
   "outputs": [],
   "source": [
    "from ipywidgets import HTML"
   ]
  },
  {
   "cell_type": "code",
   "execution_count": null,
   "id": "6866a6b5",
   "metadata": {},
   "outputs": [],
   "source": [
    "import requests as req\n",
    "\n",
    "URL = \"https://api.scryfall.com\"\n",
    "HEADERS = {\n",
    "    'User-Agent': 'MTGPriceChecker/0.1',\n",
    "    'Accept': '*/*'\n",
    "}\n"
   ]
  },
  {
   "cell_type": "code",
   "execution_count": null,
   "id": "df37c279",
   "metadata": {},
   "outputs": [],
   "source": [
    "def get_card(n):\n",
    "    return req.get(f\"{URL}/cards/blb/{n}\").json()\n",
    "\n",
    "def get_sets():\n",
    "    return req.get(f\"{URL}/sets\").json()"
   ]
  },
  {
   "cell_type": "code",
   "execution_count": null,
   "id": "2cc7e96e",
   "metadata": {},
   "outputs": [],
   "source": [
    "# HTML Components\n",
    "\n",
    "def set_list(sets):\n",
    "    return HTML(f\"\"\"\n",
    "        <div class='set-list'>\n",
    "            {[\n",
    "                set_card(SET)\n",
    "                for SET in sets\n",
    "            ]}\n",
    "        </div>\n",
    "    \"\"\")\n",
    "\n",
    "def set_card(set_object):\n",
    "    return HTML(f\"\"\"\n",
    "        <div>\n",
    "            <h2>{set_object['name']} ({set_object['code']})</h2>\n",
    "            {set_object['card_count']} cards, released {set_object['released_at']}\n",
    "        </div>\n",
    "    \"\"\")"
   ]
  },
  {
   "cell_type": "code",
   "execution_count": null,
   "id": "6c43b42a",
   "metadata": {},
   "outputs": [],
   "source": [
    "sets = get_sets()"
   ]
  },
  {
   "cell_type": "code",
   "execution_count": null,
   "id": "6589f4e3",
   "metadata": {},
   "outputs": [],
   "source": [
    "set_list(sets['data'][0:5])"
   ]
  },
  {
   "cell_type": "code",
   "execution_count": null,
   "id": "8521725c",
   "metadata": {},
   "outputs": [],
   "source": [
    "import pandas as pd\n",
    "import os"
   ]
  },
  {
   "cell_type": "code",
   "execution_count": null,
   "id": "dfe1c134",
   "metadata": {},
   "outputs": [],
   "source": [
    "from tqdm import tqdm\n",
    "\n",
    "def load_set(set_name):\n",
    "    if not os.path.exists(f\"cards_{set_name}.csv\"):\n",
    "        res = req.get(f\"{URL}/sets/{set_name}\")\n",
    "        NUMBER_OF_CARDS = res.json()['card_count']\n",
    "\n",
    "        import time as t\n",
    "        cards = []\n",
    "\n",
    "\n",
    "        for n in tqdm(range(1, NUMBER_OF_CARDS)):\n",
    "            cards.append(get_card(n))\n",
    "            t.sleep(.15)\n",
    "\n",
    "        \n",
    "        params = ['collector_number', 'name', 'image_uris', 'promo', 'rarity', 'prices']\n",
    "        new_params = ['id', 'name', 'image', 'promo', 'rarity', 'prices']\n",
    "\n",
    "\n",
    "        CARDS = []\n",
    "        for card in cards:\n",
    "            new_card = dict([(np, card[p]) for np, p in zip(new_params, params)])\n",
    "            new_card['id'] = int(new_card['id'])\n",
    "            new_card['image'] = new_card['image']['normal']\n",
    "            new_card['standard_price'] = new_card['prices']['usd']\n",
    "            new_card['foil_price'] = new_card['prices']['usd_foil']\n",
    "            del new_card['prices']\n",
    "\n",
    "            new_card['owned'] = False\n",
    "\n",
    "            CARDS.append(new_card)\n",
    "\n",
    "        df = pd.DataFrame.from_records(CARDS)\n",
    "        df.to_csv(\"cards.csv\", index=False)\n",
    "\n",
    "        del cards\n",
    "        del CARDS\n",
    "        del res\n",
    "        del NUMBER_OF_CARDS\n",
    "\n",
    "    df = pd.read_csv(f\"cards_{set_name}.csv\", index_col=\"id\")\n",
    "    \n",
    "    return df"
   ]
  },
  {
   "cell_type": "code",
   "execution_count": null,
   "id": "4867c3e2",
   "metadata": {},
   "outputs": [],
   "source": [
    "def save(df):\n",
    "    df.to_csv(\"cards.csv\")"
   ]
  },
  {
   "cell_type": "code",
   "execution_count": null,
   "id": "98fd9ae6",
   "metadata": {},
   "outputs": [],
   "source": [
    "df[~df.owned].sort_values(\"standard_price\")"
   ]
  },
  {
   "cell_type": "code",
   "execution_count": null,
   "id": "f7bc1d15",
   "metadata": {},
   "outputs": [],
   "source": [
    "from ipywidgets import HTML"
   ]
  },
  {
   "cell_type": "code",
   "execution_count": null,
   "id": "5c646d29",
   "metadata": {},
   "outputs": [],
   "source": [
    "display(\n",
    "    HTML(\n",
    "        '\\n'.join(\n",
    "            [\n",
    "                f'<img src=\"{df.loc[i].image.replace(\"normal\", \"small\")}\">'\n",
    "                for i in df[~df.owned].sort_values(\"standard_price\").index\n",
    "            ]\n",
    "        )\n",
    "    )\n",
    ")"
   ]
  }
 ],
 "metadata": {
  "kernelspec": {
   "display_name": "Python 3 (ipykernel)",
   "language": "python",
   "name": "python3"
  },
  "language_info": {
   "codemirror_mode": {
    "name": "ipython",
    "version": 3
   },
   "file_extension": ".py",
   "mimetype": "text/x-python",
   "name": "python",
   "nbconvert_exporter": "python",
   "pygments_lexer": "ipython3",
   "version": "3.9.18"
  }
 },
 "nbformat": 4,
 "nbformat_minor": 5
}
